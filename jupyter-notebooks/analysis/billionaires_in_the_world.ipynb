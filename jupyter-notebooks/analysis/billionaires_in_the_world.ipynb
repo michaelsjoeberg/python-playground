{
 "cells": [
  {
   "cell_type": "markdown",
   "metadata": {},
   "source": [
    "# Billionaires in the world"
   ]
  },
  {
   "cell_type": "markdown",
   "metadata": {},
   "source": [
    "**Author**: Michael Sjoeberg\n",
    "\n",
    "**Contact**: mail@michaelsjoeberg.com"
   ]
  },
  {
   "cell_type": "markdown",
   "metadata": {},
   "source": [
    "In this report, we will examine a set of data which represents the number of billionaires in the world, as published by [Forbes](https://www.forbes.com/billionaires), and collated as a [CORGIS](https://think.cs.vt.edu/corgis/csv/billionaires/billionaires.html) set."
   ]
  },
  {
   "cell_type": "code",
   "execution_count": 2,
   "metadata": {
    "collapsed": false
   },
   "outputs": [],
   "source": [
    "# load necessary libraries\n",
    "import pandas as pd\n",
    "import numpy as np\n",
    "import matplotlib.pyplot as plt\n",
    "\n",
    "%matplotlib inline"
   ]
  },
  {
   "cell_type": "markdown",
   "metadata": {},
   "source": [
    "## <a name=\"contents\"></a> Contents\n",
    "* [Importing and cleaning the data](#import)\n",
    "* [Visualising billionaires by country](#country)\n",
    "* [Total billionaires' wealth by category](#category)"
   ]
  },
  {
   "cell_type": "markdown",
   "metadata": {},
   "source": [
    "## <a name=\"import\"></a> Importing and cleaning the data\n",
    "([Contents](#contents))\n",
    "\n"
   ]
  },
  {
   "cell_type": "markdown",
   "metadata": {},
   "source": [
    "#### 1. Import the dataset\n",
    "\n",
    "First, read the csv file <code>billionaires.csv</code> in the directory <code>data</code> into a dataframe named <code>billionaires_df</code>."
   ]
  },
  {
   "cell_type": "code",
   "execution_count": 3,
   "metadata": {
    "collapsed": false
   },
   "outputs": [
    {
     "data": {
      "text/html": [
       "<div>\n",
       "<style>\n",
       "    .dataframe thead tr:only-child th {\n",
       "        text-align: right;\n",
       "    }\n",
       "\n",
       "    .dataframe thead th {\n",
       "        text-align: left;\n",
       "    }\n",
       "\n",
       "    .dataframe tbody tr th {\n",
       "        vertical-align: top;\n",
       "    }\n",
       "</style>\n",
       "<table border=\"1\" class=\"dataframe\">\n",
       "  <thead>\n",
       "    <tr style=\"text-align: right;\">\n",
       "      <th></th>\n",
       "      <th>age</th>\n",
       "      <th>category</th>\n",
       "      <th>citizenship</th>\n",
       "      <th>company.name</th>\n",
       "      <th>company.type</th>\n",
       "      <th>country code</th>\n",
       "      <th>founded</th>\n",
       "      <th>from emerging</th>\n",
       "      <th>gdp</th>\n",
       "      <th>gender</th>\n",
       "      <th>...</th>\n",
       "      <th>name</th>\n",
       "      <th>rank</th>\n",
       "      <th>region</th>\n",
       "      <th>relationship</th>\n",
       "      <th>sector</th>\n",
       "      <th>was founder</th>\n",
       "      <th>was political</th>\n",
       "      <th>wealth.type</th>\n",
       "      <th>worth in billions</th>\n",
       "      <th>year</th>\n",
       "    </tr>\n",
       "  </thead>\n",
       "  <tbody>\n",
       "    <tr>\n",
       "      <th>0</th>\n",
       "      <td>-1</td>\n",
       "      <td>Financial</td>\n",
       "      <td>Saudi Arabia</td>\n",
       "      <td>Rolaco Trading and Contracting Company</td>\n",
       "      <td>new</td>\n",
       "      <td>SAU</td>\n",
       "      <td>1968</td>\n",
       "      <td>True</td>\n",
       "      <td>1.580000e+11</td>\n",
       "      <td>male</td>\n",
       "      <td>...</td>\n",
       "      <td>Abdul Aziz Al-Sulaiman</td>\n",
       "      <td>404</td>\n",
       "      <td>Middle East/North Africa</td>\n",
       "      <td>founder</td>\n",
       "      <td>construction</td>\n",
       "      <td>True</td>\n",
       "      <td>False</td>\n",
       "      <td>self-made finance</td>\n",
       "      <td>1.0</td>\n",
       "      <td>1996</td>\n",
       "    </tr>\n",
       "    <tr>\n",
       "      <th>1</th>\n",
       "      <td>34</td>\n",
       "      <td>Financial</td>\n",
       "      <td>United States</td>\n",
       "      <td>Fidelity Investments</td>\n",
       "      <td>new</td>\n",
       "      <td>USA</td>\n",
       "      <td>1946</td>\n",
       "      <td>True</td>\n",
       "      <td>8.100000e+12</td>\n",
       "      <td>female</td>\n",
       "      <td>...</td>\n",
       "      <td>Abigail Johnson</td>\n",
       "      <td>145</td>\n",
       "      <td>North America</td>\n",
       "      <td>relation</td>\n",
       "      <td>investment banking</td>\n",
       "      <td>True</td>\n",
       "      <td>False</td>\n",
       "      <td>inherited</td>\n",
       "      <td>2.5</td>\n",
       "      <td>1996</td>\n",
       "    </tr>\n",
       "    <tr>\n",
       "      <th>2</th>\n",
       "      <td>59</td>\n",
       "      <td>Non-Traded Sectors</td>\n",
       "      <td>Brazil</td>\n",
       "      <td>Companhia Brasileira de Distribui?ao</td>\n",
       "      <td>new</td>\n",
       "      <td>BRA</td>\n",
       "      <td>1948</td>\n",
       "      <td>True</td>\n",
       "      <td>8.540000e+11</td>\n",
       "      <td>male</td>\n",
       "      <td>...</td>\n",
       "      <td>Abilio dos Santos Diniz</td>\n",
       "      <td>322</td>\n",
       "      <td>Latin America</td>\n",
       "      <td>relation</td>\n",
       "      <td>retail</td>\n",
       "      <td>True</td>\n",
       "      <td>False</td>\n",
       "      <td>inherited</td>\n",
       "      <td>1.2</td>\n",
       "      <td>1996</td>\n",
       "    </tr>\n",
       "    <tr>\n",
       "      <th>3</th>\n",
       "      <td>61</td>\n",
       "      <td>New Sectors</td>\n",
       "      <td>Germany</td>\n",
       "      <td>Ratiopharm</td>\n",
       "      <td>new</td>\n",
       "      <td>DEU</td>\n",
       "      <td>1881</td>\n",
       "      <td>True</td>\n",
       "      <td>2.500000e+12</td>\n",
       "      <td>male</td>\n",
       "      <td>...</td>\n",
       "      <td>Adolf Merckle</td>\n",
       "      <td>388</td>\n",
       "      <td>Europe</td>\n",
       "      <td>relation</td>\n",
       "      <td>pharmaceuticals</td>\n",
       "      <td>True</td>\n",
       "      <td>False</td>\n",
       "      <td>inherited</td>\n",
       "      <td>1.0</td>\n",
       "      <td>1996</td>\n",
       "    </tr>\n",
       "    <tr>\n",
       "      <th>4</th>\n",
       "      <td>-1</td>\n",
       "      <td>Financial</td>\n",
       "      <td>Hong Kong</td>\n",
       "      <td>Swire</td>\n",
       "      <td>new</td>\n",
       "      <td>HKG</td>\n",
       "      <td>1816</td>\n",
       "      <td>True</td>\n",
       "      <td>1.600000e+11</td>\n",
       "      <td>male</td>\n",
       "      <td>...</td>\n",
       "      <td>Adrian and John Swire</td>\n",
       "      <td>162</td>\n",
       "      <td>East Asia</td>\n",
       "      <td>relation</td>\n",
       "      <td>trading company</td>\n",
       "      <td>True</td>\n",
       "      <td>False</td>\n",
       "      <td>inherited</td>\n",
       "      <td>2.2</td>\n",
       "      <td>1996</td>\n",
       "    </tr>\n",
       "  </tbody>\n",
       "</table>\n",
       "<p>5 rows × 22 columns</p>\n",
       "</div>"
      ],
      "text/plain": [
       "   age            category    citizenship  \\\n",
       "0   -1           Financial   Saudi Arabia   \n",
       "1   34           Financial  United States   \n",
       "2   59  Non-Traded Sectors         Brazil   \n",
       "3   61         New Sectors        Germany   \n",
       "4   -1           Financial      Hong Kong   \n",
       "\n",
       "                             company.name company.type country code  founded  \\\n",
       "0  Rolaco Trading and Contracting Company          new          SAU     1968   \n",
       "1                    Fidelity Investments          new          USA     1946   \n",
       "2    Companhia Brasileira de Distribui?ao          new          BRA     1948   \n",
       "3                              Ratiopharm          new          DEU     1881   \n",
       "4                                   Swire          new          HKG     1816   \n",
       "\n",
       "   from emerging           gdp  gender  ...                      name  rank  \\\n",
       "0           True  1.580000e+11    male  ...    Abdul Aziz Al-Sulaiman   404   \n",
       "1           True  8.100000e+12  female  ...           Abigail Johnson   145   \n",
       "2           True  8.540000e+11    male  ...   Abilio dos Santos Diniz   322   \n",
       "3           True  2.500000e+12    male  ...             Adolf Merckle   388   \n",
       "4           True  1.600000e+11    male  ...     Adrian and John Swire   162   \n",
       "\n",
       "                     region  relationship              sector was founder  \\\n",
       "0  Middle East/North Africa       founder        construction        True   \n",
       "1             North America      relation  investment banking        True   \n",
       "2             Latin America      relation              retail        True   \n",
       "3                    Europe      relation     pharmaceuticals        True   \n",
       "4                 East Asia      relation     trading company        True   \n",
       "\n",
       "  was political        wealth.type  worth in billions  year  \n",
       "0         False  self-made finance                1.0  1996  \n",
       "1         False          inherited                2.5  1996  \n",
       "2         False          inherited                1.2  1996  \n",
       "3         False          inherited                1.0  1996  \n",
       "4         False          inherited                2.2  1996  \n",
       "\n",
       "[5 rows x 22 columns]"
      ]
     },
     "execution_count": 3,
     "metadata": {},
     "output_type": "execute_result"
    }
   ],
   "source": [
    "# create new dataframe for billionaire dataset\n",
    "billionaires_df = pd.read_csv('data/billionaires.csv')\n",
    "\n",
    "# check\n",
    "billionaires_df.head()"
   ]
  },
  {
   "cell_type": "markdown",
   "metadata": {},
   "source": [
    "To check that we have loaded all data, we can use the following cell to ensure that our dataframe contains the correct number of rows."
   ]
  },
  {
   "cell_type": "code",
   "execution_count": 4,
   "metadata": {
    "collapsed": false
   },
   "outputs": [
    {
     "name": "stdout",
     "output_type": "stream",
     "text": [
      "All data loaded!\n"
     ]
    }
   ],
   "source": [
    "if (len(billionaires_df) != 2614):\n",
    "    print('Some rows missing check your answer')\n",
    "else:\n",
    "    print('All data loaded!')"
   ]
  },
  {
   "cell_type": "markdown",
   "metadata": {},
   "source": [
    "#### 2. Identify and handle missing data\n",
    "\n",
    "In the dataset, there is a column (<code>company.type</code>) with several missing values."
   ]
  },
  {
   "cell_type": "code",
   "execution_count": 5,
   "metadata": {
    "collapsed": false
   },
   "outputs": [
    {
     "data": {
      "text/plain": [
       "36"
      ]
     },
     "execution_count": 5,
     "metadata": {},
     "output_type": "execute_result"
    }
   ],
   "source": [
    "# note: assuming missing values are values denoted as 'NaN' only\n",
    "len(billionaires_df[billionaires_df['company.type'].isnull()])"
   ]
  },
  {
   "cell_type": "markdown",
   "metadata": {},
   "source": [
    "Update dataframe <code>billionaires_df</code> so the missing values in the <code>company.type</code> column are replaced with the string \"unknown\"."
   ]
  },
  {
   "cell_type": "code",
   "execution_count": 6,
   "metadata": {
    "collapsed": false
   },
   "outputs": [
    {
     "data": {
      "text/html": [
       "<div>\n",
       "<style>\n",
       "    .dataframe thead tr:only-child th {\n",
       "        text-align: right;\n",
       "    }\n",
       "\n",
       "    .dataframe thead th {\n",
       "        text-align: left;\n",
       "    }\n",
       "\n",
       "    .dataframe tbody tr th {\n",
       "        vertical-align: top;\n",
       "    }\n",
       "</style>\n",
       "<table border=\"1\" class=\"dataframe\">\n",
       "  <thead>\n",
       "    <tr style=\"text-align: right;\">\n",
       "      <th></th>\n",
       "      <th>age</th>\n",
       "      <th>category</th>\n",
       "      <th>citizenship</th>\n",
       "      <th>company.name</th>\n",
       "      <th>company.type</th>\n",
       "      <th>country code</th>\n",
       "      <th>founded</th>\n",
       "      <th>from emerging</th>\n",
       "      <th>gdp</th>\n",
       "      <th>gender</th>\n",
       "      <th>...</th>\n",
       "      <th>name</th>\n",
       "      <th>rank</th>\n",
       "      <th>region</th>\n",
       "      <th>relationship</th>\n",
       "      <th>sector</th>\n",
       "      <th>was founder</th>\n",
       "      <th>was political</th>\n",
       "      <th>wealth.type</th>\n",
       "      <th>worth in billions</th>\n",
       "      <th>year</th>\n",
       "    </tr>\n",
       "  </thead>\n",
       "  <tbody>\n",
       "    <tr>\n",
       "      <th>31</th>\n",
       "      <td>-1</td>\n",
       "      <td>Traded Sectors</td>\n",
       "      <td>Mexico</td>\n",
       "      <td>NaN</td>\n",
       "      <td>unknown</td>\n",
       "      <td>MEX</td>\n",
       "      <td>0</td>\n",
       "      <td>True</td>\n",
       "      <td>3.970000e+11</td>\n",
       "      <td>NaN</td>\n",
       "      <td>...</td>\n",
       "      <td>Autrey family</td>\n",
       "      <td>400</td>\n",
       "      <td>Latin America</td>\n",
       "      <td>NaN</td>\n",
       "      <td>NaN</td>\n",
       "      <td>True</td>\n",
       "      <td>False</td>\n",
       "      <td>NaN</td>\n",
       "      <td>1.0</td>\n",
       "      <td>1996</td>\n",
       "    </tr>\n",
       "    <tr>\n",
       "      <th>44</th>\n",
       "      <td>-1</td>\n",
       "      <td>Financial</td>\n",
       "      <td>Thailand</td>\n",
       "      <td>NaN</td>\n",
       "      <td>unknown</td>\n",
       "      <td>THA</td>\n",
       "      <td>0</td>\n",
       "      <td>True</td>\n",
       "      <td>1.820000e+11</td>\n",
       "      <td>male</td>\n",
       "      <td>...</td>\n",
       "      <td>Boonsong Asavabhokhin</td>\n",
       "      <td>408</td>\n",
       "      <td>East Asia</td>\n",
       "      <td>NaN</td>\n",
       "      <td>NaN</td>\n",
       "      <td>True</td>\n",
       "      <td>False</td>\n",
       "      <td>NaN</td>\n",
       "      <td>1.0</td>\n",
       "      <td>1996</td>\n",
       "    </tr>\n",
       "    <tr>\n",
       "      <th>64</th>\n",
       "      <td>-1</td>\n",
       "      <td>Non-Traded Sectors</td>\n",
       "      <td>Germany</td>\n",
       "      <td>Sirosa</td>\n",
       "      <td>unknown</td>\n",
       "      <td>DEU</td>\n",
       "      <td>0</td>\n",
       "      <td>True</td>\n",
       "      <td>2.500000e+12</td>\n",
       "      <td>NaN</td>\n",
       "      <td>...</td>\n",
       "      <td>Conle famle</td>\n",
       "      <td>328</td>\n",
       "      <td>Europe</td>\n",
       "      <td>NaN</td>\n",
       "      <td>real estate</td>\n",
       "      <td>True</td>\n",
       "      <td>False</td>\n",
       "      <td>NaN</td>\n",
       "      <td>1.2</td>\n",
       "      <td>1996</td>\n",
       "    </tr>\n",
       "    <tr>\n",
       "      <th>93</th>\n",
       "      <td>53</td>\n",
       "      <td>Financial</td>\n",
       "      <td>Japan</td>\n",
       "      <td>NaN</td>\n",
       "      <td>unknown</td>\n",
       "      <td>JPN</td>\n",
       "      <td>0</td>\n",
       "      <td>True</td>\n",
       "      <td>4.710000e+12</td>\n",
       "      <td>male</td>\n",
       "      <td>...</td>\n",
       "      <td>Eitaro Itoyama</td>\n",
       "      <td>155</td>\n",
       "      <td>East Asia</td>\n",
       "      <td>NaN</td>\n",
       "      <td>golf courses</td>\n",
       "      <td>True</td>\n",
       "      <td>False</td>\n",
       "      <td>self-made finance</td>\n",
       "      <td>2.3</td>\n",
       "      <td>1996</td>\n",
       "    </tr>\n",
       "    <tr>\n",
       "      <th>115</th>\n",
       "      <td>-1</td>\n",
       "      <td>Non-Traded Sectors</td>\n",
       "      <td>Germany</td>\n",
       "      <td>NaN</td>\n",
       "      <td>unknown</td>\n",
       "      <td>DEU</td>\n",
       "      <td>0</td>\n",
       "      <td>True</td>\n",
       "      <td>2.500000e+12</td>\n",
       "      <td>NaN</td>\n",
       "      <td>...</td>\n",
       "      <td>Funke family</td>\n",
       "      <td>174</td>\n",
       "      <td>Europe</td>\n",
       "      <td>NaN</td>\n",
       "      <td>NaN</td>\n",
       "      <td>True</td>\n",
       "      <td>False</td>\n",
       "      <td>NaN</td>\n",
       "      <td>2.1</td>\n",
       "      <td>1996</td>\n",
       "    </tr>\n",
       "  </tbody>\n",
       "</table>\n",
       "<p>5 rows × 22 columns</p>\n",
       "</div>"
      ],
      "text/plain": [
       "     age            category citizenship company.name company.type  \\\n",
       "31    -1      Traded Sectors      Mexico          NaN      unknown   \n",
       "44    -1           Financial    Thailand          NaN      unknown   \n",
       "64    -1  Non-Traded Sectors     Germany       Sirosa      unknown   \n",
       "93    53           Financial       Japan          NaN      unknown   \n",
       "115   -1  Non-Traded Sectors     Germany          NaN      unknown   \n",
       "\n",
       "    country code  founded  from emerging           gdp gender  ...   \\\n",
       "31           MEX        0           True  3.970000e+11    NaN  ...    \n",
       "44           THA        0           True  1.820000e+11   male  ...    \n",
       "64           DEU        0           True  2.500000e+12    NaN  ...    \n",
       "93           JPN        0           True  4.710000e+12   male  ...    \n",
       "115          DEU        0           True  2.500000e+12    NaN  ...    \n",
       "\n",
       "                      name  rank         region  relationship        sector  \\\n",
       "31           Autrey family   400  Latin America           NaN           NaN   \n",
       "44   Boonsong Asavabhokhin   408      East Asia           NaN           NaN   \n",
       "64             Conle famle   328         Europe           NaN   real estate   \n",
       "93          Eitaro Itoyama   155      East Asia           NaN  golf courses   \n",
       "115           Funke family   174         Europe           NaN           NaN   \n",
       "\n",
       "    was founder was political        wealth.type  worth in billions  year  \n",
       "31         True         False                NaN                1.0  1996  \n",
       "44         True         False                NaN                1.0  1996  \n",
       "64         True         False                NaN                1.2  1996  \n",
       "93         True         False  self-made finance                2.3  1996  \n",
       "115        True         False                NaN                2.1  1996  \n",
       "\n",
       "[5 rows x 22 columns]"
      ]
     },
     "execution_count": 6,
     "metadata": {},
     "output_type": "execute_result"
    }
   ],
   "source": [
    "# replace each instance of 'NaN' with 'unknown' in company.type\n",
    "billionaires_df['company.type'] = billionaires_df['company.type'].replace(np.nan, \"unknown\")\n",
    "\n",
    "# check\n",
    "#len(billionaires_df[billionaires_df['company.type'].isnull()])\n",
    "\n",
    "# check company.type equal to 'unknown'\n",
    "billionaires_df[billionaires_df['company.type'] == \"unknown\"].head()"
   ]
  },
  {
   "cell_type": "markdown",
   "metadata": {},
   "source": [
    "#### 3. Identify and handle inconsistent or dirty data\n",
    "\n",
    "There are some typos in the company.type column: \"new\" has sometimes been entered with unwanted whitespace (\" new\", \"new \"), and has sometimes been incorrectly entered as \"neew\"."
   ]
  },
  {
   "cell_type": "code",
   "execution_count": 7,
   "metadata": {
    "collapsed": false
   },
   "outputs": [
    {
     "data": {
      "text/html": [
       "<div>\n",
       "<style>\n",
       "    .dataframe thead tr:only-child th {\n",
       "        text-align: right;\n",
       "    }\n",
       "\n",
       "    .dataframe thead th {\n",
       "        text-align: left;\n",
       "    }\n",
       "\n",
       "    .dataframe tbody tr th {\n",
       "        vertical-align: top;\n",
       "    }\n",
       "</style>\n",
       "<table border=\"1\" class=\"dataframe\">\n",
       "  <thead>\n",
       "    <tr style=\"text-align: right;\">\n",
       "      <th></th>\n",
       "      <th>age</th>\n",
       "      <th>category</th>\n",
       "      <th>citizenship</th>\n",
       "      <th>company.name</th>\n",
       "      <th>company.type</th>\n",
       "      <th>country code</th>\n",
       "      <th>founded</th>\n",
       "      <th>from emerging</th>\n",
       "      <th>gdp</th>\n",
       "      <th>gender</th>\n",
       "      <th>...</th>\n",
       "      <th>name</th>\n",
       "      <th>rank</th>\n",
       "      <th>region</th>\n",
       "      <th>relationship</th>\n",
       "      <th>sector</th>\n",
       "      <th>was founder</th>\n",
       "      <th>was political</th>\n",
       "      <th>wealth.type</th>\n",
       "      <th>worth in billions</th>\n",
       "      <th>year</th>\n",
       "    </tr>\n",
       "  </thead>\n",
       "  <tbody>\n",
       "  </tbody>\n",
       "</table>\n",
       "<p>0 rows × 22 columns</p>\n",
       "</div>"
      ],
      "text/plain": [
       "Empty DataFrame\n",
       "Columns: [age, category, citizenship, company.name, company.type, country code, founded, from emerging, gdp, gender, industry, inherited, name, rank, region, relationship, sector, was founder, was political, wealth.type, worth in billions, year]\n",
       "Index: []\n",
       "\n",
       "[0 rows x 22 columns]"
      ]
     },
     "execution_count": 7,
     "metadata": {},
     "output_type": "execute_result"
    }
   ],
   "source": [
    "# this basically replace each whitespace and typo found with correct value\n",
    "#billionaires_df['company.type'] = billionaires_df['company.type'].replace(\" new\", \"new\")\n",
    "#billionaires_df['company.type'] = billionaires_df['company.type'].replace(\"new \", \"new\")\n",
    "#billionaires_df['company.type'] = billionaires_df['company.type'].replace(\"neew\", \"new\")\n",
    "\n",
    "# or, strip whitespace from all and replace typo found with correct value\n",
    "billionaires_df['company.type'] = billionaires_df['company.type'].str.strip()\n",
    "billionaires_df['company.type'] = billionaires_df['company.type'].replace(\"neew\", \"new\")\n",
    "\n",
    "# check\n",
    "billionaires_df[billionaires_df['company.type'] == \"neew\"]"
   ]
  },
  {
   "cell_type": "markdown",
   "metadata": {},
   "source": [
    "#### 4. Identify and handle ambiguity and vagueness\n",
    "\n",
    "Next, suppose that we would like to know which of the billionaires make their money in the financial services sector."
   ]
  },
  {
   "cell_type": "code",
   "execution_count": 8,
   "metadata": {
    "collapsed": false
   },
   "outputs": [
    {
     "data": {
      "text/plain": [
       "array(['Money Management', 'Retail, Restaurant', 'Technology-Medical',\n",
       "       'Consumer', 'Real Estate', 'Mining and metals', 'Media', 'Other',\n",
       "       'Constrution', 'Energy', 'Non-consumer industrial',\n",
       "       'Diversified financial', 'Technology-Computer', '0', 'Hedge funds',\n",
       "       'banking', 'services', 'Private equity/leveraged buyout',\n",
       "       'Venture Capital', nan], dtype=object)"
      ]
     },
     "execution_count": 8,
     "metadata": {},
     "output_type": "execute_result"
    }
   ],
   "source": [
    "# note: assuming ouput format is somwehat irrelevant\n",
    "billionaires_df['industry'].unique()"
   ]
  },
  {
   "cell_type": "markdown",
   "metadata": {},
   "source": [
    "Now to find out which of these values represent businesses in the financial services sector, which do not, and any which we think it is unclear whether or not they represent financial services."
   ]
  },
  {
   "cell_type": "markdown",
   "metadata": {},
   "source": [
    "<b>Businesses in the financial services sector:</b>\n",
    "- Money Management\n",
    "- Diversified financial\n",
    "- Hedge funds\n",
    "- banking\n",
    "- Private equity/leveraged buyout\n",
    "- Venture capital\n",
    "\n",
    "These are all somewhat obvious, all related to finance, market, or money in some way.\n",
    "\n",
    "<b>Businesses <u>not</u> in the financial services sector:</b>\n",
    "- Retail, Restaurant\n",
    "- Technology-Medical\n",
    "- Consumer\n",
    "- Mining and metals\n",
    "- Media\n",
    "- Construction\n",
    "- Energy\n",
    "- Non-consumer industrial\n",
    "- Technology-Computer\n",
    "\n",
    "These are not really related to the financial service sector, with the exception 'Consumer', which also could involve e.g. consumer banking, but assuming it is not since 'banking' is already its own sector.\n",
    "\n",
    "<b>Businesses that is unclear whether or not in the financial services sector:</b>\n",
    "- Real Estate\n",
    "- Other\n",
    "- 0\n",
    "- services\n",
    "- nan\n",
    "\n",
    "These are all unclear, especially 'Other', '0', and 'services', which could be any sector, and 'Real Estate' depending on the nature of the business, such as investment, or as providing real estate related services. Also, assuming 'nan' is missing value."
   ]
  },
  {
   "cell_type": "markdown",
   "metadata": {},
   "source": [
    "## <a name=\"country\"></a> Visualising billionaires by country\n",
    "([Contents](#contents))\n",
    "\n"
   ]
  },
  {
   "cell_type": "markdown",
   "metadata": {},
   "source": [
    "#### 5. Put the data into an appropriate form for plotting\n",
    "\n",
    "We will use the <code>billionaires_df</code> dataframe to create a new dataframe containing just the data needed for the plot."
   ]
  },
  {
   "cell_type": "code",
   "execution_count": 9,
   "metadata": {
    "collapsed": false
   },
   "outputs": [
    {
     "data": {
      "text/html": [
       "<div>\n",
       "<style>\n",
       "    .dataframe thead tr:only-child th {\n",
       "        text-align: right;\n",
       "    }\n",
       "\n",
       "    .dataframe thead th {\n",
       "        text-align: left;\n",
       "    }\n",
       "\n",
       "    .dataframe tbody tr th {\n",
       "        vertical-align: top;\n",
       "    }\n",
       "</style>\n",
       "<table border=\"1\" class=\"dataframe\">\n",
       "  <thead>\n",
       "    <tr style=\"text-align: right;\">\n",
       "      <th></th>\n",
       "      <th>billionaires</th>\n",
       "    </tr>\n",
       "    <tr>\n",
       "      <th>citizenship</th>\n",
       "      <th></th>\n",
       "    </tr>\n",
       "  </thead>\n",
       "  <tbody>\n",
       "    <tr>\n",
       "      <th>Algeria</th>\n",
       "      <td>1</td>\n",
       "    </tr>\n",
       "    <tr>\n",
       "      <th>Angola</th>\n",
       "      <td>1</td>\n",
       "    </tr>\n",
       "    <tr>\n",
       "      <th>Argentina</th>\n",
       "      <td>5</td>\n",
       "    </tr>\n",
       "    <tr>\n",
       "      <th>Australia</th>\n",
       "      <td>29</td>\n",
       "    </tr>\n",
       "    <tr>\n",
       "      <th>Austria</th>\n",
       "      <td>10</td>\n",
       "    </tr>\n",
       "  </tbody>\n",
       "</table>\n",
       "</div>"
      ],
      "text/plain": [
       "             billionaires\n",
       "citizenship              \n",
       "Algeria                 1\n",
       "Angola                  1\n",
       "Argentina               5\n",
       "Australia              29\n",
       "Austria                10"
      ]
     },
     "execution_count": 9,
     "metadata": {},
     "output_type": "execute_result"
    }
   ],
   "source": [
    "# create new dataframe with year and citizenship columns\n",
    "df = billionaires_df[['year', 'citizenship']]\n",
    "\n",
    "# select data for 2014 only\n",
    "df = df[df['year'] == 2014]\n",
    "\n",
    "# check\n",
    "#df.head()\n",
    "\n",
    "# counting number of rows per citizenship\n",
    "df_grouped = df.groupby('citizenship').count()\n",
    "\n",
    "# renaming column for clarity\n",
    "df_grouped = df_grouped.rename(columns={'year':'billionaires'})\n",
    "\n",
    "# check\n",
    "df_grouped.head()"
   ]
  },
  {
   "cell_type": "markdown",
   "metadata": {},
   "source": [
    "#### 6. Visualise the data\n",
    "\n",
    "We will now use our dataframe to generate a bar chart: the name of each country on the x-axis, and the number of billionaires with citizenship from that country on the y-axis."
   ]
  },
  {
   "cell_type": "code",
   "execution_count": 10,
   "metadata": {
    "collapsed": false
   },
   "outputs": [
    {
     "data": {
      "text/plain": [
       "<matplotlib.text.Text at 0x1133a1610>"
      ]
     },
     "execution_count": 10,
     "metadata": {},
     "output_type": "execute_result"
    },
    {
     "data": {
      "image/png": "[encoded data removed]",
      "text/plain": [
       "<matplotlib.figure.Figure at 0x113332050>"
      ]
     },
     "metadata": {},
     "output_type": "display_data"
    }
   ],
   "source": [
    "# plot bar chart with defined title and figure size\n",
    "df_grouped['billionaires'].plot.bar(title=\"Billionaires per Country 2014\", figsize=(18,6))\n",
    "\n",
    "# set x and y-labels\n",
    "plt.xlabel('Country')\n",
    "plt.ylabel('Number of Billionaires')"
   ]
  },
  {
   "cell_type": "code",
   "execution_count": 11,
   "metadata": {
    "collapsed": false
   },
   "outputs": [
    {
     "data": {
      "text/plain": [
       "<matplotlib.text.Text at 0x116bdfb90>"
      ]
     },
     "execution_count": 11,
     "metadata": {},
     "output_type": "execute_result"
    },
    {
     "data": {
      "image/png": "[encoded data removed]",
      "text/plain": [
       "<matplotlib.figure.Figure at 0x11348d7d0>"
      ]
     },
     "metadata": {},
     "output_type": "display_data"
    }
   ],
   "source": [
    "# plot bar chart using filter, greater than 20, with title and figure size\n",
    "df_grouped[df_grouped['billionaires'] > 20].plot.bar(title=\"Billionaires per Country 2014\", figsize=(18,6))\n",
    "\n",
    "# set x and y-labels\n",
    "plt.xlabel('Country')\n",
    "plt.ylabel('Number of Billionaires')"
   ]
  },
  {
   "cell_type": "markdown",
   "metadata": {},
   "source": [
    "## <a name=\"category\"></a> Total billionaires' wealth by category\n",
    "([Contents](#contents))"
   ]
  },
  {
   "cell_type": "markdown",
   "metadata": {},
   "source": [
    "To investigate the categories from which the wealth was made, we need plot the data in the graph to show the total wealth, the year, and the category. The plot should show:\n",
    "    \n",
    "- The x-axis should show years in the range covered by the dataset\n",
    "- The y-axis should show the total wealth of the billionaires working in that category. The total wealth should be the sum of the values in the \"worth in billions\" column, and the categories are the values in the \"category\" column.\n",
    "- There should be several line graphs plotted, one for each different category, showing the total wealth of all the billionaires working in that sector in the given year. We should show all the lines on one plot, rather than creating a multiplot.\n",
    "- We should not include categories which do not appear in each of the years 1996, 2001 and 2014.\n",
    "- The graph should have an appropriate title and legend."
   ]
  },
  {
   "cell_type": "code",
   "execution_count": 12,
   "metadata": {
    "collapsed": false
   },
   "outputs": [
    {
     "data": {
      "text/plain": [
       "<matplotlib.legend.Legend at 0x1133999d0>"
      ]
     },
     "execution_count": 12,
     "metadata": {},
     "output_type": "execute_result"
    },
    {
     "data": {
      "image/png": "[encoded data removed]",
      "text/plain": [
       "<matplotlib.figure.Figure at 0x116bf35d0>"
      ]
     },
     "metadata": {},
     "output_type": "display_data"
    }
   ],
   "source": [
    "# create new dataframe with year, category, and worth in billions columns\n",
    "df_categories = billionaires_df[['year', 'category', 'worth in billions']]\n",
    "\n",
    "# select categories that appear in each year (hence excluding 0, Finance, Trucking, and energy)\n",
    "df_categories = df_categories[(df_categories['category'] != '0') &\n",
    "                              (df_categories['category'] != 'Finance') & \n",
    "                              (df_categories['category'] != 'Trucking') &\n",
    "                              (df_categories['category'] != 'energy')]\n",
    "\n",
    "# sum the rows in worth in billions per category and year\n",
    "df_categories_grouped = df_categories.groupby(['year', 'category']).agg('sum')\n",
    "\n",
    "# check\n",
    "#print(df_categories_grouped)\n",
    "\n",
    "# unstack grouped dataframe and plot a line chart with title, figure size, and specific x-axis ticks as years\n",
    "df_categories_grouped['worth in billions'].unstack().plot.line(title=\"Worth in Billions per Sector and Year\", \n",
    "                                                               figsize=(10,5), \n",
    "                                                               xticks=(1996, 2001, 2014))\n",
    "\n",
    "# set x and y-labels, and position legend for categories\n",
    "plt.xlabel('Year')\n",
    "plt.ylabel('Worth in Billions')\n",
    "plt.legend(loc='upper left')"
   ]
  },
  {
   "cell_type": "markdown",
   "metadata": {},
   "source": [
    "#### 7. Interpret plot"
   ]
  },
  {
   "cell_type": "markdown",
   "metadata": {},
   "source": [
    "Other than the steady increase in wealth overall for all sectors, the composition (i.e. Financial, Non-Traded Sectors, Traded Sectors, New Sectors, and Resource Related) seem to be the same over the years, with the exception of year 2001 (perhaps due to the \"dot-com bubble\"?). Financial is the biggest growth market and the highest wealth sector, and the 0 categories is probably all others, and is a tiny part of the overall wealth."
   ]
  },
  {
   "cell_type": "code",
   "execution_count": null,
   "metadata": {
    "collapsed": true
   },
   "outputs": [],
   "source": []
  }
 ],
 "metadata": {
  "kernelspec": {
   "display_name": "Python [anaconda]",
   "language": "python",
   "name": "Python [anaconda]"
  },
  "language_info": {
   "codemirror_mode": {
    "name": "ipython",
    "version": 2
   },
   "file_extension": ".py",
   "mimetype": "text/x-python",
   "name": "python",
   "nbconvert_exporter": "python",
   "pygments_lexer": "ipython2",
   "version": "2.7.12"
  }
 },
 "nbformat": 4,
 "nbformat_minor": 1
}
